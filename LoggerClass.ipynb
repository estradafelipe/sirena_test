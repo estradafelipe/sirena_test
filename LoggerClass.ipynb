{
 "cells": [
  {
   "cell_type": "markdown",
   "metadata": {},
   "source": [
    "# Definimos la clase LOGGER"
   ]
  },
  {
   "cell_type": "code",
   "execution_count": 25,
   "metadata": {},
   "outputs": [],
   "source": [
    "class LOGGER():\n",
    "    #set logging level,logfile name, file and function where the logging is taking place\n",
    "    def __init__(self, logging_level, logfile, file, function):\n",
    "        self.logging_level = logging_level\n",
    "        self.logfile = logfile\n",
    "        self.file = file\n",
    "        self.function = function\n",
    "    \n",
    "    #log a debug message\n",
    "    def debug(self, message):\n",
    "        if self.logging_level in ('DEBUG'):\n",
    "            f= open(self.logfile,\"a+\")\n",
    "            f.write(\"[DEBUG][\" + self.file + \"][\" + self.function + \"] \" + message + \"\\n\")\n",
    "            f.close()\n",
    "    \n",
    "    #log a info message\n",
    "    def info(self, message):\n",
    "        if self.logging_level in ('DEBUG','INFO'):\n",
    "            f= open(self.logfile,\"a+\")\n",
    "            f.write(\"[INFO][\" + self.file + \"][\" + self.function + \"] \" + message + \"\\n\")\n",
    "            f.close()\n",
    "        \n",
    "    #log a warning message\n",
    "    def warning(self, message):\n",
    "        if self.logging_level in ('DEBUG','INFO','WARNING'):\n",
    "            f= open(self.logfile,\"a+\")\n",
    "            f.write(\"[WARNING][\" + self.file + \"][\" + self.function + \"] \" + message + \"\\n\")\n",
    "            f.close()\n",
    "    \n",
    "    #log a error message\n",
    "    def error(self, message):\n",
    "        if self.logging_level in ('DEBUG','INFO','WARNING','ERROR'):\n",
    "            f= open(self.logfile,\"a+\")\n",
    "            f.write(\"[ERROR][\" + self.file + \"][\" + self.function + \"] \" + message + \"\\n\")\n",
    "            f.close()\n",
    "        \n",
    "    "
   ]
  },
  {
   "cell_type": "markdown",
   "metadata": {},
   "source": [
    "# Ahora probamos como funciona"
   ]
  },
  {
   "cell_type": "code",
   "execution_count": 26,
   "metadata": {
    "scrolled": true
   },
   "outputs": [
    {
     "name": "stdout",
     "output_type": "stream",
     "text": [
      "\n",
      "[DEBUG][main_file.py][function1] debug message\n",
      "[INFO][main_file.py][function1] info message\n",
      "[ERROR][main_file.py][function1] error message\n",
      "\n"
     ]
    }
   ],
   "source": [
    "#create a new LOGGER instance with DEBUG level\n",
    "log = LOGGER(\"DEBUG\",\"logfile.txt\",\"main_file.py\",\"function1\")\n",
    "#log a debug message\n",
    "log.debug(\"debug message\")\n",
    "#log a info message\n",
    "log.info(\"info message\")\n",
    "\n",
    "#change logging level to ERROR\n",
    "log.logging_level=\"ERROR\"\n",
    "#log a debug message\n",
    "log.debug(\"debug message 2\")\n",
    "#log a error message\n",
    "log.error(\"error message\")\n",
    "\n",
    "#open the logfile to check\n",
    "f= open(\"logfile.txt\",\"r\")\n",
    "contents =f.read()\n",
    "print(contents)\n",
    "f.close()"
   ]
  },
  {
   "cell_type": "markdown",
   "metadata": {},
   "source": [
    "## Vemos que al cambiar el nivel de logging a ERROR solo se ven los mensajes de log del tipo ERROR"
   ]
  },
  {
   "cell_type": "code",
   "execution_count": null,
   "metadata": {},
   "outputs": [],
   "source": []
  },
  {
   "cell_type": "code",
   "execution_count": null,
   "metadata": {},
   "outputs": [],
   "source": []
  }
 ],
 "metadata": {
  "kernelspec": {
   "display_name": "Python 3",
   "language": "python",
   "name": "python3"
  },
  "language_info": {
   "codemirror_mode": {
    "name": "ipython",
    "version": 3
   },
   "file_extension": ".py",
   "mimetype": "text/x-python",
   "name": "python",
   "nbconvert_exporter": "python",
   "pygments_lexer": "ipython3",
   "version": "3.7.6"
  }
 },
 "nbformat": 4,
 "nbformat_minor": 4
}
